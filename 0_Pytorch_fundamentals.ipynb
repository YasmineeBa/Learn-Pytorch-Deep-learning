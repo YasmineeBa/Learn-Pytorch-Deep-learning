{
  "nbformat": 4,
  "nbformat_minor": 0,
  "metadata": {
    "colab": {
      "provenance": [],
      "authorship_tag": "ABX9TyNJfhhGGNNqTcLWl/XQkOx1",
      "include_colab_link": true
    },
    "kernelspec": {
      "name": "python3",
      "display_name": "Python 3"
    },
    "language_info": {
      "name": "python"
    },
    "gpuClass": "standard"
  },
  "cells": [
    {
      "cell_type": "markdown",
      "metadata": {
        "id": "view-in-github",
        "colab_type": "text"
      },
      "source": [
        "<a href=\"https://colab.research.google.com/github/YasmineeBa/Learn-Pytorch-Deep-learning/blob/main/0_Pytorch_fundamentals.ipynb\" target=\"_parent\"><img src=\"https://colab.research.google.com/assets/colab-badge.svg\" alt=\"Open In Colab\"/></a>"
      ]
    },
    {
      "cell_type": "markdown",
      "source": [
        "# 00. PyTorch Fundamentals\n",
        "\n",
        "## What is PyTorch?\n",
        "\n",
        "[PyTorch](https://pytorch.org/) is an open source machine learning and deep learning framework.\n",
        "\n",
        "## What can PyTorch be used for?\n",
        "\n",
        "PyTorch allows you to manipulate and process data and write machine learning algorithms using Python code.\n",
        "\n",
        "## Who uses PyTorch?\n",
        "\n",
        "Many of the worlds largest technology companies such as [Meta (Facebook)](https://ai.facebook.com/blog/pytorch-builds-the-future-of-ai-and-machine-learning-at-facebook/), Tesla and Microsoft as well as artificial intelligence research companies such as [OpenAI use PyTorch](https://openai.com/blog/openai-pytorch/) to power research and bring machine learning to their products.\n",
        "\n",
        "![pytorch being used across industry and research](https://raw.githubusercontent.com/mrdbourke/pytorch-deep-learning/main/images/00-pytorch-being-used-across-research-and-industry.png)\n",
        "\n",
        "For example, Andrej Karpathy (head of AI at Tesla) has given several talks ([PyTorch DevCon 2019](https://youtu.be/oBklltKXtDE), [Tesla AI Day 2021](https://youtu.be/j0z4FweCy4M?t=2904)) about how Tesla use PyTorch to power their self-driving computer vision models.\n",
        "\n",
        "PyTorch is also used in other industries such as agriculture to [power computer vision on tractors](https://medium.com/pytorch/ai-for-ag-production-machine-learning-for-agriculture-e8cfdb9849a1).\n",
        "\n",
        "## Why use PyTorch?\n",
        "\n",
        "Machine learning researchers love using PyTorch. And as of February 2022, PyTorch is the [most used deep learning framework on Papers With Code](https://paperswithcode.com/trends), a website for tracking machine learning research papers and the code repositories attached with them.\n",
        "\n",
        "PyTorch also helps take care of many things such as GPU acceleration (making your code run faster) behind the scenes. \n",
        "\n",
        "So you can focus on manipulating data and writing algorithms and PyTorch will make sure it runs fast.\n",
        "\n",
        "And if companies such as Tesla and Meta (Facebook) use it to build models they deploy to power hundreds of applications, drive thousands of cars and deliver content to billions of people, it's clearly capable on the development front too.\n",
        "\n",
        "## What we're going to cover in this module\n",
        "\n",
        "This course is broken down into different sections (notebooks). \n",
        "\n",
        "Each notebook covers important ideas and concepts within PyTorch.\n",
        "\n",
        "Subsequent notebooks build upon knowledge from the previous one (numbering starts at 00, 01, 02 and goes to whatever it ends up going to).\n",
        "\n",
        "This notebook deals with the basic building block of machine learning and deep learning, the tensor.\n",
        "\n",
        "Specifically, we're going to cover:\n",
        "\n",
        "| **Topic** | **Contents** |\n",
        "| ----- | ----- |\n",
        "| **Introduction to tensors** | Tensors are the basic building block of all of machine learning and deep learning. |\n",
        "| **Creating tensors** | Tensors can represent almost any kind of data (images, words, tables of numbers). |\n",
        "| **Getting information from tensors** | If you can put information into a tensor, you'll want to get it out too. |\n",
        "| **Manipulating tensors** | Machine learning algorithms (like neural networks) involve manipulating tensors in many different ways such as adding, multiplying, combining. | \n",
        "| **Dealing with tensor shapes** | One of the most common issues in machine learning is dealing with shape mismatches (trying to mixed wrong shaped tensors with other tensors). |\n",
        "| **Indexing on tensors** | If you've indexed on a Python list or NumPy array, it's very similar with tensors, except they can have far more dimensions. |\n",
        "| **Mixing PyTorch tensors and NumPy** | PyTorch plays with tensors ([`torch.Tensor`](https://pytorch.org/docs/stable/tensors.html)), NumPy likes arrays ([`np.ndarray`](https://numpy.org/doc/stable/reference/generated/numpy.ndarray.html)) sometimes you'll want to mix and match these. | \n",
        "| **Reproducibility** | Machine learning is very experimental and since it uses a lot of *randomness* to work, sometimes you'll want that *randomness* to not be so random. |\n",
        "| **Running tensors on GPU** | GPUs (Graphics Processing Units) make your code faster, PyTorch makes it easy to run your code on GPUs. |\n",
        "\n"
      ],
      "metadata": {
        "id": "w75K7T8kR9_3"
      }
    },
    {
      "cell_type": "markdown",
      "source": [
        "### Let's start"
      ],
      "metadata": {
        "id": "qzCluzKnSGlI"
      }
    },
    {
      "cell_type": "code",
      "execution_count": null,
      "metadata": {
        "colab": {
          "base_uri": "https://localhost:8080/"
        },
        "id": "dr44MxD0EhWR",
        "outputId": "644c3eef-4f58-4f58-f999-38a4d5cfaf53"
      },
      "outputs": [
        {
          "output_type": "stream",
          "name": "stdout",
          "text": [
            "hello I am excited to teach you how to learn pytorch\n"
          ]
        }
      ],
      "source": [
        "print('hello I am excited to teach you how to learn pytorch')"
      ]
    },
    {
      "cell_type": "markdown",
      "source": [
        "First, I'm gonna show you how to get acces to gpu for use it in pytorch.\n",
        "- go into Runtime\n"
      ],
      "metadata": {
        "id": "lrj0kL4TGhZe"
      }
    },
    {
      "cell_type": "code",
      "source": [
        "#to know if you had acces to gpu run this command\n",
        "!nvidia-smi"
      ],
      "metadata": {
        "colab": {
          "base_uri": "https://localhost:8080/"
        },
        "id": "F_TxrmsqExNM",
        "outputId": "5a6ced6a-57c1-4396-a5f8-1ea6afff9e0a"
      },
      "execution_count": null,
      "outputs": [
        {
          "output_type": "stream",
          "name": "stdout",
          "text": [
            "Wed Mar 15 11:43:24 2023       \n",
            "+-----------------------------------------------------------------------------+\n",
            "| NVIDIA-SMI 525.85.12    Driver Version: 525.85.12    CUDA Version: 12.0     |\n",
            "|-------------------------------+----------------------+----------------------+\n",
            "| GPU  Name        Persistence-M| Bus-Id        Disp.A | Volatile Uncorr. ECC |\n",
            "| Fan  Temp  Perf  Pwr:Usage/Cap|         Memory-Usage | GPU-Util  Compute M. |\n",
            "|                               |                      |               MIG M. |\n",
            "|===============================+======================+======================|\n",
            "|   0  Tesla T4            Off  | 00000000:00:04.0 Off |                    0 |\n",
            "| N/A   52C    P0    26W /  70W |      0MiB / 15360MiB |      0%      Default |\n",
            "|                               |                      |                  N/A |\n",
            "+-------------------------------+----------------------+----------------------+\n",
            "                                                                               \n",
            "+-----------------------------------------------------------------------------+\n",
            "| Processes:                                                                  |\n",
            "|  GPU   GI   CI        PID   Type   Process name                  GPU Memory |\n",
            "|        ID   ID                                                   Usage      |\n",
            "|=============================================================================|\n",
            "|  No running processes found                                                 |\n",
            "+-----------------------------------------------------------------------------+\n"
          ]
        }
      ]
    },
    {
      "cell_type": "code",
      "source": [
        "#import bibliotheque\n",
        "import torch\n",
        "import pandas as pd\n",
        "import numpy as np\n",
        "import matplotlib.pyplot as pyplot\n",
        "\n",
        "print(torch.__version__)"
      ],
      "metadata": {
        "colab": {
          "base_uri": "https://localhost:8080/"
        },
        "id": "TWHmN_I4F3-h",
        "outputId": "84eac579-c7ef-4189-e8fc-57209031d7d4"
      },
      "execution_count": null,
      "outputs": [
        {
          "output_type": "stream",
          "name": "stdout",
          "text": [
            "1.13.1+cu116\n"
          ]
        }
      ]
    },
    {
      "cell_type": "code",
      "source": [
        "#first think that we gonna look at is an introduction to Tensors"
      ],
      "metadata": {
        "id": "GUgwDdPhHmFX"
      },
      "execution_count": null,
      "outputs": []
    },
    {
      "cell_type": "markdown",
      "source": [
        "##Inroduction to Tensors\n",
        "\n",
        "###Creating Tensors\n"
      ],
      "metadata": {
        "id": "HbyI2WuOGQnX"
      }
    },
    {
      "cell_type": "code",
      "source": [
        "#scaler\n",
        "scalar = torch.tensor(7)\n",
        "scalar"
      ],
      "metadata": {
        "colab": {
          "base_uri": "https://localhost:8080/"
        },
        "id": "rWDLyfF7HfXx",
        "outputId": "987382d6-ca47-405a-d93a-aade194bcae6"
      },
      "execution_count": null,
      "outputs": [
        {
          "output_type": "execute_result",
          "data": {
            "text/plain": [
              "tensor(7)"
            ]
          },
          "metadata": {},
          "execution_count": 3
        }
      ]
    },
    {
      "cell_type": "code",
      "source": [
        "scalar.ndim"
      ],
      "metadata": {
        "colab": {
          "base_uri": "https://localhost:8080/"
        },
        "id": "t3qMGgXlHy06",
        "outputId": "d7fd7dd2-09bc-4d2a-fa57-e6178846d9ad"
      },
      "execution_count": null,
      "outputs": [
        {
          "output_type": "execute_result",
          "data": {
            "text/plain": [
              "0"
            ]
          },
          "metadata": {},
          "execution_count": 4
        }
      ]
    },
    {
      "cell_type": "code",
      "source": [
        "# Get tensor back as Python int\n",
        "scalar.item()"
      ],
      "metadata": {
        "colab": {
          "base_uri": "https://localhost:8080/"
        },
        "id": "yXm3TWrcIGJl",
        "outputId": "408b3a22-ce05-4a3f-b705-298fcfb958b7"
      },
      "execution_count": null,
      "outputs": [
        {
          "output_type": "execute_result",
          "data": {
            "text/plain": [
              "7"
            ]
          },
          "metadata": {},
          "execution_count": 5
        }
      ]
    },
    {
      "cell_type": "code",
      "source": [
        "# vector is a 1-dimension array of numbers\n",
        "vector = torch.tensor([7,7])\n",
        "vector"
      ],
      "metadata": {
        "colab": {
          "base_uri": "https://localhost:8080/"
        },
        "id": "kiKqd8tIIO2w",
        "outputId": "f8fcb414-85af-411f-87db-cfc8196db77b"
      },
      "execution_count": null,
      "outputs": [
        {
          "output_type": "execute_result",
          "data": {
            "text/plain": [
              "tensor([7, 7])"
            ]
          },
          "metadata": {},
          "execution_count": 6
        }
      ]
    },
    {
      "cell_type": "code",
      "source": [
        "vector.ndim # dimension"
      ],
      "metadata": {
        "colab": {
          "base_uri": "https://localhost:8080/"
        },
        "id": "JWQQeHFKIfI0",
        "outputId": "b207d789-2e42-4a62-8136-26b694fd78d2"
      },
      "execution_count": null,
      "outputs": [
        {
          "output_type": "execute_result",
          "data": {
            "text/plain": [
              "1"
            ]
          },
          "metadata": {},
          "execution_count": 7
        }
      ]
    },
    {
      "cell_type": "code",
      "source": [
        "vector.shape #shape"
      ],
      "metadata": {
        "colab": {
          "base_uri": "https://localhost:8080/"
        },
        "id": "a0HTE6ViIhBy",
        "outputId": "834c53be-b80d-47c9-b0de-261c10fb5a9c"
      },
      "execution_count": null,
      "outputs": [
        {
          "output_type": "execute_result",
          "data": {
            "text/plain": [
              "torch.Size([2])"
            ]
          },
          "metadata": {},
          "execution_count": 8
        }
      ]
    },
    {
      "cell_type": "code",
      "source": [
        "# Matrix is a 2-dimensional array of numbers\n",
        "matrix = torch.tensor([[7, 8],\n",
        "                      [5, 6]])\n",
        "matrix"
      ],
      "metadata": {
        "colab": {
          "base_uri": "https://localhost:8080/"
        },
        "id": "RzLdTADBInk8",
        "outputId": "48cc3fad-db38-4b06-ed22-7ffafe1983ff"
      },
      "execution_count": null,
      "outputs": [
        {
          "output_type": "execute_result",
          "data": {
            "text/plain": [
              "tensor([[7, 8],\n",
              "        [5, 6]])"
            ]
          },
          "metadata": {},
          "execution_count": 10
        }
      ]
    },
    {
      "cell_type": "code",
      "source": [
        "matrix.ndim #number of ligne "
      ],
      "metadata": {
        "colab": {
          "base_uri": "https://localhost:8080/"
        },
        "id": "tpdOCwbSI72I",
        "outputId": "1cbe52e4-6439-439d-b280-f1785d773b9b"
      },
      "execution_count": null,
      "outputs": [
        {
          "output_type": "execute_result",
          "data": {
            "text/plain": [
              "2"
            ]
          },
          "metadata": {},
          "execution_count": 11
        }
      ]
    },
    {
      "cell_type": "code",
      "source": [
        "matrix.shape"
      ],
      "metadata": {
        "colab": {
          "base_uri": "https://localhost:8080/"
        },
        "id": "tJlkOfN2I-0z",
        "outputId": "f2fe1fd5-326a-4091-f902-d2923a51facb"
      },
      "execution_count": null,
      "outputs": [
        {
          "output_type": "execute_result",
          "data": {
            "text/plain": [
              "torch.Size([2, 2])"
            ]
          },
          "metadata": {},
          "execution_count": 13
        }
      ]
    },
    {
      "cell_type": "code",
      "source": [
        "matrix[1] # diplay the first ligne of the matrix"
      ],
      "metadata": {
        "colab": {
          "base_uri": "https://localhost:8080/"
        },
        "id": "9mPz4GC6JG1E",
        "outputId": "86b7b23b-b318-45e0-d887-cf8283fd5d70"
      },
      "execution_count": null,
      "outputs": [
        {
          "output_type": "execute_result",
          "data": {
            "text/plain": [
              "tensor([5, 6])"
            ]
          },
          "metadata": {},
          "execution_count": 15
        }
      ]
    },
    {
      "cell_type": "code",
      "source": [
        "#TENSOR is an n-dimensional array of numbers, it can be any number, a 0-dimention tensor is a scalar, a 1-dimension tensor is a vector\n",
        "tensor = torch.tensor([[[1,2,3], \n",
        "                        [4,5,6],\n",
        "                        [7,8,9]]])\n",
        "tensor"
      ],
      "metadata": {
        "colab": {
          "base_uri": "https://localhost:8080/"
        },
        "id": "plWNKsCcJNxn",
        "outputId": "72bff9db-4614-485d-a130-e53c2630402e"
      },
      "execution_count": null,
      "outputs": [
        {
          "output_type": "execute_result",
          "data": {
            "text/plain": [
              "tensor([[[1, 2, 3],\n",
              "         [4, 5, 6],\n",
              "         [7, 8, 9]]])"
            ]
          },
          "metadata": {},
          "execution_count": 16
        }
      ]
    },
    {
      "cell_type": "code",
      "source": [
        "tensor.shape\n",
        "# taht means there is 1 dimension of 3 by 3"
      ],
      "metadata": {
        "colab": {
          "base_uri": "https://localhost:8080/"
        },
        "id": "LCB3rLk0KCkN",
        "outputId": "f151f3db-f67a-4db7-fe83-136e51508f28"
      },
      "execution_count": null,
      "outputs": [
        {
          "output_type": "execute_result",
          "data": {
            "text/plain": [
              "torch.Size([1, 3, 3])"
            ]
          },
          "metadata": {},
          "execution_count": 17
        }
      ]
    },
    {
      "cell_type": "markdown",
      "source": [
        "#Here is an image that explain each dimension what reference to.\n",
        "\n",
        "![image.png](data:image/png;base64,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)"
      ],
      "metadata": {
        "id": "ob69tPmQKF7C"
      }
    },
    {
      "cell_type": "markdown",
      "source": [
        "### Ransom tensors\n",
        "\n",
        "Why random tansor?\n",
        "\n",
        "Random tensors are important because the way many neural networks learn it that they start with tensors full of random numbers and then adjust those random numbers to better represent the data.\n",
        "\n",
        "`Start with random numbers -> look at data -> update random numbers -> look at data -> update random numbers...`\n",
        "\n",
        "\n",
        "Torch random tensors -https://pytorch.org/docs/stable/generated/torch.rand.html"
      ],
      "metadata": {
        "id": "G0X0SfwhK-Fi"
      }
    },
    {
      "cell_type": "code",
      "source": [
        "random_tensor = torch.rand(3,4)\n",
        "random_tensor"
      ],
      "metadata": {
        "colab": {
          "base_uri": "https://localhost:8080/"
        },
        "id": "Vyw0pPzXKRSd",
        "outputId": "6e25934c-5d4e-4b01-8624-49adbf766811"
      },
      "execution_count": null,
      "outputs": [
        {
          "output_type": "execute_result",
          "data": {
            "text/plain": [
              "tensor([[0.9786, 0.4777, 0.6637, 0.1534],\n",
              "        [0.5444, 0.8766, 0.4043, 0.2058],\n",
              "        [0.6641, 0.5898, 0.2293, 0.5617]])"
            ]
          },
          "metadata": {},
          "execution_count": 24
        }
      ]
    },
    {
      "cell_type": "code",
      "source": [
        "random_tensor.ndim"
      ],
      "metadata": {
        "colab": {
          "base_uri": "https://localhost:8080/"
        },
        "id": "PklCT5hAPBNF",
        "outputId": "ceb1ddc4-f4f9-439b-ed45-550527b89bcd"
      },
      "execution_count": null,
      "outputs": [
        {
          "output_type": "execute_result",
          "data": {
            "text/plain": [
              "2"
            ]
          },
          "metadata": {},
          "execution_count": 20
        }
      ]
    },
    {
      "cell_type": "code",
      "source": [
        "# create a random tensor with similar shape to an image tensor\n",
        "\n",
        "random_image_size_tensor = torch.rand(size=(3, 224,224)) # height, width, and RGB color\n",
        "random_image_size_tensor"
      ],
      "metadata": {
        "colab": {
          "base_uri": "https://localhost:8080/"
        },
        "id": "q8Afy7nZOzn_",
        "outputId": "65f73c18-6564-4ca6-bb33-6df48c1d15f7"
      },
      "execution_count": null,
      "outputs": [
        {
          "output_type": "execute_result",
          "data": {
            "text/plain": [
              "tensor([[[0.7585, 0.7766, 0.1166,  ..., 0.3204, 0.3513, 0.0794],\n",
              "         [0.8311, 0.3645, 0.0603,  ..., 0.7044, 0.6132, 0.2364],\n",
              "         [0.8447, 0.9138, 0.1916,  ..., 0.6922, 0.7763, 0.6834],\n",
              "         ...,\n",
              "         [0.1980, 0.1828, 0.1238,  ..., 0.2653, 0.2894, 0.8475],\n",
              "         [0.3415, 0.6718, 0.7639,  ..., 0.4024, 0.1461, 0.8414],\n",
              "         [0.3584, 0.9383, 0.1143,  ..., 0.6919, 0.7147, 0.9550]],\n",
              "\n",
              "        [[0.2736, 0.3379, 0.2973,  ..., 0.9634, 0.7916, 0.8230],\n",
              "         [0.4364, 0.3013, 0.6575,  ..., 0.7165, 0.6760, 0.2785],\n",
              "         [0.6745, 0.1580, 0.7516,  ..., 0.0541, 0.5593, 0.4430],\n",
              "         ...,\n",
              "         [0.6295, 0.1468, 0.6391,  ..., 0.4586, 0.2338, 0.8800],\n",
              "         [0.0199, 0.4601, 0.3507,  ..., 0.7363, 0.0788, 0.6363],\n",
              "         [0.6313, 0.4710, 0.4373,  ..., 0.6558, 0.5843, 0.3080]],\n",
              "\n",
              "        [[0.4739, 0.3204, 0.6199,  ..., 0.9817, 0.7968, 0.8152],\n",
              "         [0.0257, 0.4763, 0.2154,  ..., 0.6840, 0.8655, 0.2415],\n",
              "         [0.5548, 0.4031, 0.9712,  ..., 0.4766, 0.3101, 0.1372],\n",
              "         ...,\n",
              "         [0.4473, 0.2171, 0.5806,  ..., 0.2808, 0.4131, 0.8738],\n",
              "         [0.4114, 0.9249, 0.1904,  ..., 0.4297, 0.6346, 0.4389],\n",
              "         [0.7014, 0.6369, 0.4475,  ..., 0.3640, 0.4579, 0.4559]]])"
            ]
          },
          "metadata": {},
          "execution_count": 25
        }
      ]
    },
    {
      "cell_type": "code",
      "source": [
        "random_image_size_tensor.ndim, random_image_size_tensor.shape"
      ],
      "metadata": {
        "colab": {
          "base_uri": "https://localhost:8080/"
        },
        "id": "P3eDSNLbQcqS",
        "outputId": "30e226eb-8736-4148-efb8-2baf2629c176"
      },
      "execution_count": null,
      "outputs": [
        {
          "output_type": "execute_result",
          "data": {
            "text/plain": [
              "(3, torch.Size([3, 224, 224]))"
            ]
          },
          "metadata": {},
          "execution_count": 27
        }
      ]
    },
    {
      "cell_type": "code",
      "source": [
        "ones = torch.ones(3,4)\n",
        "ones"
      ],
      "metadata": {
        "colab": {
          "base_uri": "https://localhost:8080/"
        },
        "id": "mgYL8rmaQ1Yd",
        "outputId": "e5a62184-25c3-488b-9abd-a5a8a0ff094b"
      },
      "execution_count": null,
      "outputs": [
        {
          "output_type": "execute_result",
          "data": {
            "text/plain": [
              "tensor([[1., 1., 1., 1.],\n",
              "        [1., 1., 1., 1.],\n",
              "        [1., 1., 1., 1.]])"
            ]
          },
          "metadata": {},
          "execution_count": 31
        }
      ]
    },
    {
      "cell_type": "code",
      "source": [
        "zeros = torch.zeros(3,4)\n",
        "zeros"
      ],
      "metadata": {
        "colab": {
          "base_uri": "https://localhost:8080/"
        },
        "id": "4gsnIQxtRVDx",
        "outputId": "a8fd7b92-660b-47c2-dad1-c396ec742774"
      },
      "execution_count": null,
      "outputs": [
        {
          "output_type": "execute_result",
          "data": {
            "text/plain": [
              "tensor([[0., 0., 0., 0.],\n",
              "        [0., 0., 0., 0.],\n",
              "        [0., 0., 0., 0.]])"
            ]
          },
          "metadata": {},
          "execution_count": 32
        }
      ]
    },
    {
      "cell_type": "code",
      "source": [
        "zeros.dtype"
      ],
      "metadata": {
        "colab": {
          "base_uri": "https://localhost:8080/"
        },
        "id": "7scLLG3FRdS9",
        "outputId": "4341ac7f-198e-4890-8eda-25948cce87c1"
      },
      "execution_count": null,
      "outputs": [
        {
          "output_type": "execute_result",
          "data": {
            "text/plain": [
              "torch.float32"
            ]
          },
          "metadata": {},
          "execution_count": 33
        }
      ]
    },
    {
      "cell_type": "code",
      "source": [],
      "metadata": {
        "id": "luDl56kISirW"
      },
      "execution_count": null,
      "outputs": []
    },
    {
      "cell_type": "markdown",
      "source": [
        "# Creating a range of tensors and tensors-like"
      ],
      "metadata": {
        "id": "dW-8_H1aSoQW"
      }
    },
    {
      "cell_type": "code",
      "source": [
        "one_to_ten = torch.arange(start= 1, end=11, step = 1)\n",
        "one_to_ten"
      ],
      "metadata": {
        "colab": {
          "base_uri": "https://localhost:8080/"
        },
        "id": "Rv_ZuK7lSti_",
        "outputId": "e44e97a4-8f95-4cfc-9a9a-61dd4f2dfe6b"
      },
      "execution_count": null,
      "outputs": [
        {
          "output_type": "execute_result",
          "data": {
            "text/plain": [
              "tensor([ 1,  2,  3,  4,  5,  6,  7,  8,  9, 10])"
            ]
          },
          "metadata": {},
          "execution_count": 35
        }
      ]
    },
    {
      "cell_type": "code",
      "source": [
        "ten_zeros =torch.zeros_like(input = one_to_ten)\n",
        "ten_zeros"
      ],
      "metadata": {
        "colab": {
          "base_uri": "https://localhost:8080/"
        },
        "id": "7mMX6kjgTB3C",
        "outputId": "1427da65-3d72-4e7a-c82b-7f9cf8bb2f7d"
      },
      "execution_count": null,
      "outputs": [
        {
          "output_type": "execute_result",
          "data": {
            "text/plain": [
              "tensor([0, 0, 0, 0, 0, 0, 0, 0, 0, 0])"
            ]
          },
          "metadata": {},
          "execution_count": 37
        }
      ]
    },
    {
      "cell_type": "code",
      "source": [
        "t = torch.tensor([3.0, 6.0, 9.0],\n",
        "                 dtype = None,\n",
        "                 device= None,\n",
        "                 requires_grad=False)\n",
        "t"
      ],
      "metadata": {
        "colab": {
          "base_uri": "https://localhost:8080/"
        },
        "id": "aoqy8aHvTLBD",
        "outputId": "981fa46b-bbfd-4408-ee31-ee26a453cb26"
      },
      "execution_count": null,
      "outputs": [
        {
          "output_type": "execute_result",
          "data": {
            "text/plain": [
              "tensor([3., 6., 9.])"
            ]
          },
          "metadata": {},
          "execution_count": 40
        }
      ]
    },
    {
      "cell_type": "code",
      "source": [
        "t.dtype"
      ],
      "metadata": {
        "colab": {
          "base_uri": "https://localhost:8080/"
        },
        "id": "cQ0WmdeHV0z8",
        "outputId": "bd12ec0d-9d3c-4795-cd6b-fea7610c4dbe"
      },
      "execution_count": null,
      "outputs": [
        {
          "output_type": "execute_result",
          "data": {
            "text/plain": [
              "torch.float32"
            ]
          },
          "metadata": {},
          "execution_count": 41
        }
      ]
    },
    {
      "cell_type": "code",
      "source": [
        "float_16_tensor = t.type(torch.float16)\n",
        "float_16_tensor"
      ],
      "metadata": {
        "colab": {
          "base_uri": "https://localhost:8080/"
        },
        "id": "UyHNekBHV8Pd",
        "outputId": "d3a704e1-f27d-4cf4-96c7-f29bd0969ba8"
      },
      "execution_count": null,
      "outputs": [
        {
          "output_type": "execute_result",
          "data": {
            "text/plain": [
              "tensor([3., 6., 9.], dtype=torch.float16)"
            ]
          },
          "metadata": {},
          "execution_count": 42
        }
      ]
    },
    {
      "cell_type": "code",
      "source": [
        "float_16_tensor*t"
      ],
      "metadata": {
        "colab": {
          "base_uri": "https://localhost:8080/"
        },
        "id": "iz3pM6HWWNU5",
        "outputId": "ea0e224b-dd34-449d-eee0-b4799b11b913"
      },
      "execution_count": null,
      "outputs": [
        {
          "output_type": "execute_result",
          "data": {
            "text/plain": [
              "tensor([ 9., 36., 81.])"
            ]
          },
          "metadata": {},
          "execution_count": 43
        }
      ]
    },
    {
      "cell_type": "markdown",
      "source": [
        "# Getting tensor attribute 18 video"
      ],
      "metadata": {
        "id": "UkORhq0JWXIy"
      }
    },
    {
      "cell_type": "code",
      "source": [
        "#create a tensor\n",
        "some_tensor = torch.rand(3,4)\n",
        "some_tensor"
      ],
      "metadata": {
        "id": "GKE8gcOjWNcQ",
        "colab": {
          "base_uri": "https://localhost:8080/"
        },
        "outputId": "402ccc82-89c5-4d55-b9f1-cfd4eb0e4420"
      },
      "execution_count": null,
      "outputs": [
        {
          "output_type": "execute_result",
          "data": {
            "text/plain": [
              "tensor([[0.4876, 0.6205, 0.9693, 0.8172],\n",
              "        [0.0336, 0.8705, 0.8177, 0.2315],\n",
              "        [0.9665, 0.7947, 0.3770, 0.0845]])"
            ]
          },
          "metadata": {},
          "execution_count": 3
        }
      ]
    },
    {
      "cell_type": "code",
      "source": [
        "print(some_tensor)\n",
        "print(f'Dtatype of tensor: {some_tensor.dtype}')\n",
        "print(f'Shaoe of tensor: {some_tensor.shape}')\n",
        "print(f'Device is : {some_tensor.device}')"
      ],
      "metadata": {
        "colab": {
          "base_uri": "https://localhost:8080/"
        },
        "id": "ePYDFhZQSeXm",
        "outputId": "9eae145f-fe10-48f2-fc82-c8c647f06205"
      },
      "execution_count": null,
      "outputs": [
        {
          "output_type": "stream",
          "name": "stdout",
          "text": [
            "tensor([[0.4876, 0.6205, 0.9693, 0.8172],\n",
            "        [0.0336, 0.8705, 0.8177, 0.2315],\n",
            "        [0.9665, 0.7947, 0.3770, 0.0845]])\n",
            "Dtatype of tensor: torch.float32\n",
            "Shaoe of tensor: torch.Size([3, 4])\n",
            "Device is : cpu\n"
          ]
        }
      ]
    },
    {
      "cell_type": "code",
      "source": [
        "#video19"
      ],
      "metadata": {
        "id": "pqiaD67mS6Yl"
      },
      "execution_count": null,
      "outputs": []
    }
  ]
}